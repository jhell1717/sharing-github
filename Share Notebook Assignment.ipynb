{
 "cells": [
  {
   "cell_type": "markdown",
   "id": "b1e6062d",
   "metadata": {},
   "source": [
    "# My Jupyter Notebook on IBM Watson Studio"
   ]
  },
  {
   "cell_type": "markdown",
   "id": "4f47553b",
   "metadata": {},
   "source": [
    "**Joshua Hellewell**\n",
    "<br>Experimental Engineer"
   ]
  },
  {
   "cell_type": "markdown",
   "id": "a7456564",
   "metadata": {},
   "source": [
    "*I am interested in Data Science because I would like to improve my ability to make informed decision in my current role as an experimental engineer. I work with as lot of data, but do not think I fully utilize the capabilities.*"
   ]
  },
  {
   "cell_type": "code",
   "execution_count": null,
   "id": "f47ed966",
   "metadata": {},
   "outputs": [],
   "source": []
  }
 ],
 "metadata": {
  "kernelspec": {
   "display_name": "Python 3 (ipykernel)",
   "language": "python",
   "name": "python3"
  },
  "language_info": {
   "codemirror_mode": {
    "name": "ipython",
    "version": 3
   },
   "file_extension": ".py",
   "mimetype": "text/x-python",
   "name": "python",
   "nbconvert_exporter": "python",
   "pygments_lexer": "ipython3",
   "version": "3.9.13"
  }
 },
 "nbformat": 4,
 "nbformat_minor": 5
}
